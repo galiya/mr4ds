{
 "cells": [
  {
   "cell_type": "markdown",
   "metadata": {},
   "source": [
    "## Lab 1 - `dplyr` examples\n",
    "\n"
   ]
  },
  {
   "cell_type": "code",
   "execution_count": null,
   "metadata": {
    "autoscroll": false,
    "collapsed": true
   },
   "outputs": [],
   "source": [
    "options(jupyter.rich_display=FALSE)"
   ]
  },
  {
   "cell_type": "code",
   "execution_count": null,
   "metadata": {
    "autoscroll": false,
    "collapsed": true
   },
   "outputs": [],
   "source": [
    "library(dplyr)\n",
    "library(stringr)\n",
    "taxi_url <- \"http://alizaidi.blob.core.windows.net/training/taxi_df.rds\"\n",
    "taxi_df  <- readRDS(gzcon(url(taxi_url)))"
   ]
  },
  {
   "cell_type": "code",
   "execution_count": null,
   "metadata": {
    "autoscroll": false,
    "collapsed": true
   },
   "outputs": [],
   "source": [
    "ls()"
   ]
  },
  {
   "cell_type": "code",
   "execution_count": null,
   "metadata": {
    "autoscroll": false,
    "collapsed": true
   },
   "outputs": [],
   "source": [
    "class(taxi_df)"
   ]
  },
  {
   "cell_type": "code",
   "execution_count": null,
   "metadata": {
    "autoscroll": false,
    "collapsed": true
   },
   "outputs": [],
   "source": [
    "taxi_df <- taxi_df %>% mutate(tip_pct = tip_amount/fare_amount)"
   ]
  },
  {
   "cell_type": "code",
   "execution_count": null,
   "metadata": {
    "autoscroll": false,
    "collapsed": true
   },
   "outputs": [],
   "source": [
    "taxi_df"
   ]
  },
  {
   "cell_type": "markdown",
   "metadata": {},
   "source": [
    "\n",
    "## Exploratory Data Analysis - Data Validation\n",
    "Let's see if we can find out anything about the different numeric fields, `tip_amount` and `fare_amount` and see if we can spot any outliers.\n",
    "How should we deal with them?\n",
    "\n"
   ]
  },
  {
   "cell_type": "code",
   "execution_count": null,
   "metadata": {
    "autoscroll": false,
    "collapsed": true
   },
   "outputs": [],
   "source": [
    "## Some useful functions\n",
    "\n",
    "# summary\n",
    "# quantile\n",
    "# ggplot() + geom_histogram\n",
    "# ggplot() + geom_density"
   ]
  },
  {
   "cell_type": "markdown",
   "metadata": {},
   "source": [
    "\n",
    "## Summarize data by payment type\n",
    "\n",
    "There is a payment type column that is an label for the type of payment used for the taxi ride.\n",
    "Let's see if we can find out anything strange about the various payment types.\n",
    "\n"
   ]
  },
  {
   "cell_type": "code",
   "execution_count": null,
   "metadata": {
    "autoscroll": false,
    "collapsed": true
   },
   "outputs": [],
   "source": [
    "## some useful functions\n",
    "# group_by(payment_type) %>% summarise(tip_amount)\n",
    "# ggplot() + facet_wrap(~payment_type)"
   ]
  },
  {
   "cell_type": "markdown",
   "metadata": {},
   "source": [
    "\n",
    "## Two-table joins\n",
    "\n",
    "Let's see examples of the two-table functions in `dplyr`.\n",
    "\n"
   ]
  },
  {
   "cell_type": "code",
   "execution_count": null,
   "metadata": {
    "autoscroll": false,
    "collapsed": true
   },
   "outputs": [],
   "source": [
    "library(broom)\n",
    "taxi_coefs <- taxi_df %>% sample_n(10^5) %>%\n",
    "  group_by(dropoff_dow) %>%\n",
    "  do(tidy(lm(tip_pct ~ pickup_nhood + passenger_count + pickup_hour,\n",
    "     data = .), conf.int = TRUE)) %>% select(dropoff_dow, conf.low, conf.high)\n",
    "\n",
    "taxi_metrics <- taxi_df %>% sample_n(10^5) %>%\n",
    "  group_by(dropoff_dow) %>%\n",
    "  do(glance(lm(tip_pct ~ pickup_nhood + passenger_count + pickup_hour,\n",
    "     data = .)))"
   ]
  },
  {
   "cell_type": "markdown",
   "metadata": {},
   "source": [
    "\n",
    "Use the `left_join` function in `dplyr` to append the model metrics to the coefficients.\n",
    "\n",
    "# `tidyr`\n",
    "\n",
    "The `tidyr` package is a very handy package for transforming data that is _wide_ into data that is **tall**.\n",
    "\n",
    "Take a look at the `tidyr` [cheatsheet](https://www.rstudio.com/wp-content/uploads/2015/02/data-wrangling-cheatsheet.pdf) and try to convert the coeffs data from _tall_ to **wide**\n",
    "\n"
   ]
  },
  {
   "cell_type": "code",
   "execution_count": null,
   "metadata": {
    "autoscroll": false,
    "collapsed": true
   },
   "outputs": [],
   "source": []
  }
 ],
 "metadata": {
  "anaconda-cloud": {},
  "kernelspec": {
   "display_name": "R",
   "language": "R",
   "name": "ir"
  },
  "language_info": {
   "codemirror_mode": "r",
   "file_extension": ".r",
   "mimetype": "text/x-r-source",
   "name": "R",
   "pygments_lexer": "r",
   "version": "3.3.2"
  }
 },
 "nbformat": 4,
 "nbformat_minor": 0
}
