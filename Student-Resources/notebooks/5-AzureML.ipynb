{
 "cells": [
  {
   "cell_type": "code",
   "execution_count": null,
   "metadata": {
    "Rmd_chunk_options": "setup, include=FALSE",
    "autoscroll": false,
    "collapsed": true
   },
   "outputs": [],
   "source": [
    "knitr::opts_chunk$set(cache = TRUE)"
   ]
  },
  {
   "cell_type": "markdown",
   "metadata": {},
   "source": [
    "\n",
    "\n",
    "# Introduction\n",
    "\n",
    "AzureML provides an interface to publish web services on Microsoft Azure Machine Learning (Azure ML) from your local R environment. The main functions in the package cover the following topics:\n",
    "\n",
    "* Workspace: connect to and manage AzureML workspaces\n",
    "* Datasets: upload and download datasets to and from AzureML workspaces\n",
    "* Publish: publish R functions as AzureML web services, and update or delete existing services\n",
    "* Consume: apply any AzureML web service to your R data\n",
    "\n",
    "## Installing the AzureML Package\n",
    "\n",
    "This short tutorial will show you how to use the `AzureML` package to operationalize R models in Azure as webservices. Our package version is 0.2.13, which you can install from an up-to-date CRAN mirror. Please be careful, as package version < 0.2 will not work as described here, as there were some fundamental changes in the latter releases.\n",
    "\n"
   ]
  },
  {
   "cell_type": "code",
   "execution_count": null,
   "metadata": {
    "Rmd_chunk_options": "install",
    "autoscroll": false,
    "collapsed": true
   },
   "outputs": [],
   "source": [
    "getOption(\"repos\")\n",
    "# on centOS you'll need xml\n",
    "# system(\"sudo yum install libxml2-devel\")\n",
    "install.packages(\"AzureML\")\n",
    "packageVersion(\"AzureML\")"
   ]
  },
  {
   "cell_type": "markdown",
   "metadata": {},
   "source": [
    "\n",
    "## Getting Started\n",
    "\n",
    "Getting started with the AzureML package requires a Microsoft Azure Machine Learning account. These are available for free from [studio.azureml.net](https://studio.azureml.net/). Please make an account, don't use a guest account.\n",
    "\n",
    "A complete introduction on using the `AzureML` package is provided by the package's [vignette](https://cran.r-project.org/web/packages/AzureML/vignettes/getting_started.html).\n",
    "\n",
    "Firstly, we need to get our AzureML credentials. Using the left-hand menu, click on the _Settings_ tab and copy your _Workspace ID_.\n",
    "\n",
    "Next, click on the _Authorization Tokens_ tab at the top of the settings page and copy your _Primary Authentication_ key.\n",
    "\n",
    "In order to connect your R client to your AzureML workshop, we will need to define a workspace object using the `workspace` function inside of your R session that points to an Azure service.\n",
    "\n"
   ]
  },
  {
   "cell_type": "code",
   "execution_count": null,
   "metadata": {
    "Rmd_chunk_options": "keys, echo = FALSE",
    "autoscroll": false,
    "collapsed": true
   },
   "outputs": [],
   "source": [
    "wsid <- \"your_id\"\n",
    "pri_token <- \"your_private_token\"\n",
    "\n",
    "library(AzureML)\n",
    "ws <- workspace(\n",
    "  id = wsid,\n",
    "  auth = pri_token\n",
    ")\n"
   ]
  },
  {
   "cell_type": "markdown",
   "metadata": {},
   "source": [
    "\n",
    "In order to use `AzureML` package we need to expose our credentials to the package. For example, we could make this pointer directly using the `workspace` function:\n",
    "\n"
   ]
  },
  {
   "cell_type": "code",
   "execution_count": null,
   "metadata": {
    "Rmd_chunk_options": "wspace, eval = FALSE",
    "autoscroll": false,
    "collapsed": true
   },
   "outputs": [],
   "source": [
    "library(AzureML)\n",
    "ws <- workspace(\n",
    "  id = \"your workspace ID\",\n",
    "  auth = \"your authorization token\"\n",
    ")\n"
   ]
  },
  {
   "cell_type": "markdown",
   "metadata": {},
   "source": [
    "\n",
    "Alternatively, you could save your credentials in a _json_ file in your home directory under `~/.azureml/settings.json`.\n",
    "\n",
    "## Example Usage\n",
    "\n",
    "The simplest way to use the `AzureML` package is to query your AzureML environment\n",
    "\n"
   ]
  },
  {
   "cell_type": "code",
   "execution_count": null,
   "metadata": {
    "Rmd_chunk_options": "view_datasets",
    "autoscroll": false,
    "collapsed": true
   },
   "outputs": [],
   "source": [
    "head(datasets(ws))"
   ]
  },
  {
   "cell_type": "markdown",
   "metadata": {},
   "source": [
    "\n",
    "Using `AzureML`, you can download and upload datasets from and to Azure. Examples of such use is provided in the vignette, and isn't of great interest for us today.\n",
    "\n",
    "## Creating Experiments\n",
    "\n",
    "We will use the `AzureML` package to create experiments in AzureML.\n",
    "\n"
   ]
  },
  {
   "cell_type": "code",
   "execution_count": null,
   "metadata": {
    "Rmd_chunk_options": "experiments",
    "autoscroll": false,
    "collapsed": true
   },
   "outputs": [],
   "source": [
    "e <- experiments(ws)\n",
    "head(e)"
   ]
  },
  {
   "cell_type": "markdown",
   "metadata": {},
   "source": [
    "\n",
    "The `experiments` function creates an R `data.frame` containing all the experiments you have in your AzureML account, along with some useful metadata about each experiment.\n",
    "\n",
    "The same information is also available inside the `ws` object under the slot `experiments`, which is continuously updated whenever called:\n",
    "\n"
   ]
  },
  {
   "cell_type": "code",
   "execution_count": null,
   "metadata": {
    "Rmd_chunk_options": "expws",
    "autoscroll": false,
    "collapsed": true
   },
   "outputs": [],
   "source": [
    "identical(ws$experiments, e)"
   ]
  },
  {
   "cell_type": "markdown",
   "metadata": {},
   "source": [
    "\n",
    "## Publishing New Webservices\n",
    "\n",
    "Using the `publishWebService` function, you can publish any R function into an `AzureML` webservice.\n",
    "\n",
    "Here's a very contrived and silly where we create a webservice for calculating powers based on two scalar arguments.\n",
    "\n",
    "Firt we create the function:\n",
    "\n"
   ]
  },
  {
   "cell_type": "code",
   "execution_count": null,
   "metadata": {
    "Rmd_chunk_options": "gothtepower",
    "autoscroll": false,
    "collapsed": true
   },
   "outputs": [],
   "source": [
    "powers <- function(x, y) {\n",
    "  x^y\n",
    "}"
   ]
  },
  {
   "cell_type": "markdown",
   "metadata": {},
   "source": [
    "\n",
    "And then we create our webservice:\n",
    "\n"
   ]
  },
  {
   "cell_type": "code",
   "execution_count": null,
   "metadata": {
    "Rmd_chunk_options": "powerservice",
    "autoscroll": false,
    "collapsed": true
   },
   "outputs": [],
   "source": [
    "api <- publishWebService(\n",
    "  ws,\n",
    "  fun = powers,\n",
    "  name = \"azure-power-ex\",\n",
    "  inputSchema = list(\n",
    "    x = \"numeric\",\n",
    "    y = \"numeric\"\n",
    "  ),\n",
    "  outputSchema = list(\n",
    "    ans = \"numeric\"\n",
    "  )\n",
    ")\n"
   ]
  },
  {
   "cell_type": "markdown",
   "metadata": {},
   "source": [
    "\n",
    "## Consuming Webservices\n",
    "\n",
    "The vignette goes into deeper detail on how to update webservices, or discover them using the package's API. We will instead focus on consuming webservices directly through the package API:\n",
    "\n",
    "\n"
   ]
  },
  {
   "cell_type": "code",
   "execution_count": null,
   "metadata": {
    "Rmd_chunk_options": "consume",
    "autoscroll": false,
    "collapsed": true
   },
   "outputs": [],
   "source": [
    "\n",
    "df <- data.frame(\n",
    "  x = rep(2, 10),\n",
    "  y = 1:10\n",
    ")\n",
    "s <- services(ws, name = \"azure-power-ex\")\n",
    "s <- tail(s, 1) # use the last published function, in case of duplicate function names\n",
    "ep <- endpoints(ws, s)\n",
    "consume(ep, df)\n"
   ]
  },
  {
   "cell_type": "markdown",
   "metadata": {},
   "source": [
    "\n",
    "## Publishing MRS Models\n",
    "\n",
    "In the third module of our course, we learned how to create MRS using the `RevoScaleR` package.\n",
    "\n",
    "In order to deploy them on Azure, we need to first convert them into an object that Azure can understand. At the current time, Azure can only publish webservices using open-source R, so we need to convert our MRS model objects into their open-source counterparts. Fortunately, every MRS model object has a method that'll convert it to an open-source variant with the same coefficeints.\n",
    "\n",
    "For the purpose of this part of the tutorial, I will assume you have ran the third module and created the gradient boosted trees model for default prediction, `default_model_gbm`.\n",
    "\n"
   ]
  },
  {
   "cell_type": "code",
   "execution_count": null,
   "metadata": {
    "Rmd_chunk_options": "gbm_check",
    "autoscroll": false,
    "collapsed": true
   },
   "outputs": [],
   "source": [
    "default_model_gbm <- readRDS(\"gbm.rds\")\n",
    "summary(default_model_gbm)"
   ]
  },
  {
   "cell_type": "markdown",
   "metadata": {},
   "source": [
    "\n",
    "To convert it to to a `gbm` object from the base `gbm` package, we will use the obvious method: `as.gbm`:\n",
    "\n"
   ]
  },
  {
   "cell_type": "code",
   "execution_count": null,
   "metadata": {
    "Rmd_chunk_options": "convert",
    "autoscroll": false,
    "collapsed": true
   },
   "outputs": [],
   "source": [
    "gbm_default <- as.gbm(default_model_gbm)\n",
    "summary(gbm_default)"
   ]
  },
  {
   "cell_type": "markdown",
   "metadata": {},
   "source": [
    "\n",
    "We will use the first five rows of the test dataset as our sample data:\n",
    "\n"
   ]
  },
  {
   "cell_type": "code",
   "execution_count": null,
   "metadata": {
    "Rmd_chunk_options": "rpart_web",
    "autoscroll": false,
    "collapsed": true
   },
   "outputs": [],
   "source": [
    "mort_split <- readRDS(\"mort_split.rds\")\n",
    "test <- head(mort_split$validate)\n",
    "\n",
    "mypredict <- function(newdata)\n",
    "{\n",
    "  require(gbm)\n",
    "  predict(gbm_default, newdata, n.trees = 10)\n",
    "}\n",
    "\n",
    "print(mypredict(test))\n"
   ]
  },
  {
   "cell_type": "markdown",
   "metadata": {},
   "source": [
    "\n",
    "Now that we have create a scoring wrapper function, let's publish it to Azure:\n",
    "\n"
   ]
  },
  {
   "cell_type": "code",
   "execution_count": null,
   "metadata": {
    "Rmd_chunk_options": "publish_rpart",
    "autoscroll": false,
    "collapsed": true
   },
   "outputs": [],
   "source": [
    "ep <- publishWebService(ws = ws,\n",
    "                        fun = mypredict,\n",
    "                        name = \"AzureML-rpart-ex\",\n",
    "                        inputSchema = test)\n",
    "\n",
    "# Consume test data, comparing with result above\n",
    "print(consume(ep, test))"
   ]
  },
  {
   "cell_type": "markdown",
   "metadata": {},
   "source": [
    "\n",
    "## Deleting a Webservice\n",
    "\n",
    "If you want to delete a webservice, simply specify the webservice name and use the `deleteWebService` function:\n",
    "\n"
   ]
  },
  {
   "cell_type": "code",
   "execution_count": null,
   "metadata": {
    "Rmd_chunk_options": "delete",
    "autoscroll": false,
    "collapsed": true
   },
   "outputs": [],
   "source": [
    "deleteWebService(ws, name = \"azure-power-ex\")\n",
    "deleteWebService(ws, name = \"AzureML-rpart-ex\")"
   ]
  },
  {
   "cell_type": "markdown",
   "metadata": {},
   "source": [
    "\n"
   ]
  }
 ],
 "metadata": {
  "Rmd_header": {
   "author": "Ali Zaidi",
   "date": "10/19/2016",
   "output": "html_document",
   "title": "Operationalize R Models with AzureML"
  },
  "anaconda-cloud": {},
  "kernelspec": {
   "display_name": "R",
   "language": "R",
   "name": "ir"
  },
  "language_info": {
   "codemirror_mode": "r",
   "file_extension": ".r",
   "mimetype": "text/x-r-source",
   "name": "R",
   "pygments_lexer": "r",
   "version": "3.3.2"
  }
 },
 "nbformat": 4,
 "nbformat_minor": 0
}
