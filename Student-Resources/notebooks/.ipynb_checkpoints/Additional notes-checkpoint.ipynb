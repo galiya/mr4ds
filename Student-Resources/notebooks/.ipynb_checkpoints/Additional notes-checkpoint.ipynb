{
 "cells": [
  {
   "cell_type": "markdown",
   "metadata": {},
   "source": [
    "## Issue printing R tables in ipython notebook\n",
    "### IPython has a \"rich output\" interface\n",
    "\n",
    "options(jupiter.rich_display = FALSE)"
   ]
  },
  {
   "cell_type": "markdown",
   "metadata": {},
   "source": [
    "## Check\n",
    "Microsoft ML,\n",
    "Jupiter Lab\n",
    "    \n",
    "## RTVS vs R Studio\n",
    "    - not a competitor\n",
    "    - covers different use cases\n",
    "    - RTVS: good integration with SQL Server, Azure"
   ]
  },
  {
   "cell_type": "markdown",
   "metadata": {},
   "source": [
    "## CRAN R / MRO / Scale R\n",
    "\n",
    "### Cran R \n",
    "Vanilla R (CRAN), Academia\n",
    "In-memory,\n",
    "Single-threaded\n",
    "\n",
    "### MRO\n",
    "MRO: CRAN R + Intel MKL (Intel Math Kernel Library)\n",
    "MRO: Microsoft R Open, formerly known as Revolution R Open (RRO), \n",
    "Enhanced R libraries: https://mran.microsoft.com/open/\n",
    "In-memory\n",
    "Multi-threaded\n",
    "MKL: Linear Algebra functions\n",
    "\n",
    "### Scale R \n",
    "MRS: CRAN R + MRO + Scale R\n",
    "PEMA = Parallel External Memory Algorithms\n",
    "Out-of-core functions\n",
    "\n",
    "Microsoft R Client (PEMA, 2 cores, in-memory)\n"
   ]
  },
  {
   "cell_type": "markdown",
   "metadata": {},
   "source": [
    "## dplyr \n",
    "\n",
    "* takes data frame in, gives data frame back\n",
    "* super quick - c++ at the back (r is just an interface)\n",
    "* does one thing well\n",
    "* has multiple backends for working with data stored in various sources: SQLite, MySQL, bigquery, SQL Server, and many more\n",
    "\n",
    "* check evaluation functions (same as normal with underscore, i.e. filter_ ) and then you can provide val which is the name of the variable that can be provided in the run time"
   ]
  },
  {
   "cell_type": "markdown",
   "metadata": {},
   "source": [
    "### RDS objects\n",
    "   * Serialised R objects\n",
    "   * http://www.fromthebottomoftheheap.net/2012/04/01/saving-and-loading-r-objects/"
   ]
  }
 ],
 "metadata": {
  "anaconda-cloud": {},
  "kernelspec": {
   "display_name": "Python 3.5",
   "language": "python",
   "name": "python3"
  },
  "language_info": {
   "codemirror_mode": {
    "name": "ipython",
    "version": 3
   },
   "file_extension": ".py",
   "mimetype": "text/x-python",
   "name": "python",
   "nbconvert_exporter": "python",
   "pygments_lexer": "ipython3",
   "version": "3.5.2"
  }
 },
 "nbformat": 4,
 "nbformat_minor": 1
}
